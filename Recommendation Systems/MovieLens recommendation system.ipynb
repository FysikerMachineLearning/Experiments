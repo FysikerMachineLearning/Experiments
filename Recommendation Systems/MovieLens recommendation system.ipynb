{
 "cells": [
  {
   "cell_type": "markdown",
   "metadata": {},
   "source": [
    "# Recommendation System \n",
    "Trying out the process of creating a recommendation system using the [Movielens dataset](https://grouplens.org/datasets/movielens/)\n",
    "\n",
    "Every movie and user can be assigned a vector which should describe their characterisits in such a way that when multiplied results in the users rating for that movie. These two embeddings could also be concatenated to form the input to a network which also could be used to predict the rating for this particular user-movie pair. "
   ]
  },
  {
   "cell_type": "code",
   "execution_count": 348,
   "metadata": {},
   "outputs": [],
   "source": [
    "import csv\n",
    "import numpy as np\n",
    "import pandas as pd\n",
    "\n",
    "from math import floor, sqrt\n",
    "from collections import defaultdict\n",
    "\n",
    "from sklearn.model_selection import train_test_split\n",
    "from sklearn.preprocessing import MultiLabelBinarizer\n",
    "\n",
    "from keras.models import Model\n",
    "from keras.callbacks import EarlyStopping\n",
    "from keras.layers import Input, Embedding, Activation, Flatten, Lambda, Concatenate, Dense, Dropout, BatchNormalization\n",
    "from keras.optimizers import Adam"
   ]
  },
  {
   "cell_type": "markdown",
   "metadata": {},
   "source": [
    "## Preparing the data\n",
    "We have to clean the data a bit since the user and movie id's have to be in a contiguous order for the Keras Embedding layer to work propperly. We also want to make use of the movie tags when training the model, requering us to somehow turn these into vectors. \n",
    "\n",
    "One idea is to also create a embedding for each tag and combine these in an average fashion."
   ]
  },
  {
   "cell_type": "code",
   "execution_count": 389,
   "metadata": {},
   "outputs": [],
   "source": [
    "# user, movie, rating, time\n",
    "ratings = np.genfromtxt('ml-latest-small/ratings.csv', delimiter=',', skip_header=1)\n",
    "\n",
    "#id, title, tags\n",
    "with open('ml-latest-small/movies.csv', 'r') as f:\n",
    "    reader = csv.reader(f)\n",
    "    movie_header = next(reader)\n",
    "    mid2cmid = {} #movie id to contiguous id\n",
    "    mid2tags = {} #contigious movie id to tag\n",
    "    tags = []\n",
    "    for i, row in enumerate(reader):\n",
    "        mid2cmid[int(row[0])] = i #mapping movie id to contigious integers\n",
    "        mid2tags[i] = row[2].split('|') \n",
    "        tags.append(mid2tags[i])\n",
    "    #end for\n",
    "#end with\n",
    "mlb = MultiLabelBinarizer()\n",
    "mlb_tags = mlb.fit_transform(tags)\n",
    "\n",
    "\n",
    "uid2cuid = {} #user id to contiguous user id\n",
    "users = set(ratings[:,0])\n",
    "for i, u in enumerate(users):\n",
    "    uid2cuid[u] = i\n",
    "\n",
    "\n",
    "#Update the rating matrix\n",
    "for i, row in enumerate(ratings):\n",
    "    ratings[i][0] = uid2cuid[row[0]]\n",
    "    ratings[i][1] = mid2cmid[int(row[1])]\n"
   ]
  },
  {
   "cell_type": "code",
   "execution_count": 276,
   "metadata": {},
   "outputs": [],
   "source": [
    "n_users = 610 \n",
    "n_movies = 9742\n",
    "assert(len(users) == n_users)\n",
    "assert(len(movie_map) == n_movies)"
   ]
  },
  {
   "cell_type": "code",
   "execution_count": 390,
   "metadata": {},
   "outputs": [
    {
     "data": {
      "text/plain": [
       "array([[0, 0, 1, ..., 0, 0, 0],\n",
       "       [0, 0, 1, ..., 0, 0, 0],\n",
       "       [0, 0, 0, ..., 0, 0, 0],\n",
       "       ...,\n",
       "       [0, 0, 0, ..., 0, 0, 0],\n",
       "       [0, 1, 0, ..., 0, 0, 0],\n",
       "       [0, 0, 0, ..., 0, 0, 0]])"
      ]
     },
     "execution_count": 390,
     "metadata": {},
     "output_type": "execute_result"
    }
   ],
   "source": [
    "mlb_tags"
   ]
  },
  {
   "cell_type": "code",
   "execution_count": 278,
   "metadata": {},
   "outputs": [
    {
     "data": {
      "text/plain": [
       "{'(no genres listed)',\n",
       " 'Action',\n",
       " 'Adventure',\n",
       " 'Animation',\n",
       " 'Children',\n",
       " 'Comedy',\n",
       " 'Crime',\n",
       " 'Documentary',\n",
       " 'Drama',\n",
       " 'Fantasy',\n",
       " 'Film-Noir',\n",
       " 'Horror',\n",
       " 'IMAX',\n",
       " 'Musical',\n",
       " 'Mystery',\n",
       " 'Romance',\n",
       " 'Sci-Fi',\n",
       " 'Thriller',\n",
       " 'War',\n",
       " 'Western'}"
      ]
     },
     "execution_count": 278,
     "metadata": {},
     "output_type": "execute_result"
    }
   ],
   "source": [
    "set(tags)"
   ]
  },
  {
   "cell_type": "markdown",
   "metadata": {},
   "source": [
    "Test-train split the data"
   ]
  },
  {
   "cell_type": "code",
   "execution_count": 394,
   "metadata": {},
   "outputs": [
    {
     "name": "stdout",
     "output_type": "stream",
     "text": [
      "1\n"
     ]
    },
    {
     "ename": "TypeError",
     "evalue": "list indices must be integers or slices, not tuple",
     "output_type": "error",
     "traceback": [
      "\u001b[0;31m---------------------------------------------------------------------------\u001b[0m",
      "\u001b[0;31mTypeError\u001b[0m                                 Traceback (most recent call last)",
      "\u001b[0;32m<ipython-input-394-b6dcbce24eeb>\u001b[0m in \u001b[0;36m<module>\u001b[0;34m\u001b[0m\n\u001b[1;32m      1\u001b[0m \u001b[0mtrain\u001b[0m\u001b[0;34m,\u001b[0m \u001b[0mtest\u001b[0m \u001b[0;34m=\u001b[0m \u001b[0mtrain_test_split\u001b[0m\u001b[0;34m(\u001b[0m\u001b[0;34m[\u001b[0m\u001b[0mratings\u001b[0m\u001b[0;34m,\u001b[0m \u001b[0mmlb_tags\u001b[0m\u001b[0;34m]\u001b[0m\u001b[0;34m,\u001b[0m \u001b[0mtrain_size\u001b[0m\u001b[0;34m=\u001b[0m\u001b[0;36m0.8\u001b[0m\u001b[0;34m)\u001b[0m\u001b[0;34m\u001b[0m\u001b[0;34m\u001b[0m\u001b[0m\n\u001b[1;32m      2\u001b[0m \u001b[0mprint\u001b[0m\u001b[0;34m(\u001b[0m\u001b[0mlen\u001b[0m\u001b[0;34m(\u001b[0m\u001b[0mtrain\u001b[0m\u001b[0;34m)\u001b[0m\u001b[0;34m)\u001b[0m\u001b[0;34m\u001b[0m\u001b[0;34m\u001b[0m\u001b[0m\n\u001b[0;32m----> 3\u001b[0;31m \u001b[0mtrain_user\u001b[0m\u001b[0;34m,\u001b[0m \u001b[0mtest_user\u001b[0m \u001b[0;34m=\u001b[0m \u001b[0mtrain\u001b[0m\u001b[0;34m[\u001b[0m\u001b[0;34m:\u001b[0m\u001b[0;34m,\u001b[0m\u001b[0;36m0\u001b[0m\u001b[0;34m]\u001b[0m\u001b[0;34m,\u001b[0m \u001b[0mtest\u001b[0m\u001b[0;34m[\u001b[0m\u001b[0;34m:\u001b[0m\u001b[0;34m,\u001b[0m\u001b[0;36m0\u001b[0m\u001b[0;34m]\u001b[0m\u001b[0;34m\u001b[0m\u001b[0;34m\u001b[0m\u001b[0m\n\u001b[0m\u001b[1;32m      4\u001b[0m \u001b[0mtrain_movie\u001b[0m\u001b[0;34m,\u001b[0m \u001b[0mtest_movie\u001b[0m \u001b[0;34m=\u001b[0m \u001b[0mtrain\u001b[0m\u001b[0;34m[\u001b[0m\u001b[0;34m:\u001b[0m\u001b[0;34m,\u001b[0m\u001b[0;36m1\u001b[0m\u001b[0;34m]\u001b[0m\u001b[0;34m,\u001b[0m \u001b[0mtest\u001b[0m\u001b[0;34m[\u001b[0m\u001b[0;34m:\u001b[0m\u001b[0;34m,\u001b[0m\u001b[0;36m1\u001b[0m\u001b[0;34m]\u001b[0m\u001b[0;34m\u001b[0m\u001b[0;34m\u001b[0m\u001b[0m\n\u001b[1;32m      5\u001b[0m \u001b[0mtrain_rating\u001b[0m\u001b[0;34m,\u001b[0m \u001b[0mtest_rating\u001b[0m \u001b[0;34m=\u001b[0m \u001b[0mtrain\u001b[0m\u001b[0;34m[\u001b[0m\u001b[0;34m:\u001b[0m\u001b[0;34m,\u001b[0m\u001b[0;36m2\u001b[0m\u001b[0;34m]\u001b[0m\u001b[0;34m,\u001b[0m \u001b[0mtest\u001b[0m\u001b[0;34m[\u001b[0m\u001b[0;34m:\u001b[0m\u001b[0;34m,\u001b[0m\u001b[0;36m2\u001b[0m\u001b[0;34m]\u001b[0m\u001b[0;34m\u001b[0m\u001b[0;34m\u001b[0m\u001b[0m\n",
      "\u001b[0;31mTypeError\u001b[0m: list indices must be integers or slices, not tuple"
     ]
    }
   ],
   "source": [
    "train, test = train_test_split([ratings, mlb_tags], train_size=0.8)\n",
    "print(len(train))\n",
    "train_user, test_user = train[:,0], test[:,0]\n",
    "train_movie, test_movie = train[:,1], test[:,1]\n",
    "train_rating, test_rating = train[:,2], test[:,2]"
   ]
  },
  {
   "cell_type": "code",
   "execution_count": 223,
   "metadata": {},
   "outputs": [],
   "source": [
    "min_rateing = np.min(ratings[:,2])\n",
    "max_rateing = np.max(ratings[:,2])\n",
    "n_tags = mlb.classes_"
   ]
  },
  {
   "cell_type": "markdown",
   "metadata": {},
   "source": [
    "Create the model"
   ]
  },
  {
   "cell_type": "code",
   "execution_count": 391,
   "metadata": {},
   "outputs": [],
   "source": [
    "common_emb_ez = 50\n",
    "movie_emb_sz = 50\n",
    "user_emb_sz = 50\n",
    "tag_emb_sz = 5\n",
    "\n",
    "def gen_dot_model():\n",
    "    movie_imp = Input(shape=(1,), name='movie_input')\n",
    "    movie_emb = Embedding(n_movies, common_emb_ez, name='movie_embedding')(movie_imp)\n",
    "    \n",
    "    user_imp = Input(shape=(1,), name='user_input')\n",
    "    user_emb = Embedding(n_users, common_emb_ez, name='user_embedding')(user_imp)\n",
    "    \n",
    "    movie_do = Dropout(0.1)(movie_emb)\n",
    "    user_do = Dropout(0.1)(user_emb)\n",
    "    \n",
    "    dot = Flatten()(keras.layers.dot([movie_do, user_do], axes=2, name='dot'))\n",
    "    dot_do = Dropout(0.1)(dot)\n",
    "    \n",
    "    act = Activation('sigmoid', name='activation')(dot_do)\n",
    "    out = Lambda(lambda x: min_rateing + (max_rateing - min_rateing)*x)(act)\n",
    "\n",
    "    model = Model(inputs=[movie_imp, user_imp], outputs=[out])\n",
    "    model.compile(loss = 'mean_squared_error', optimizer = Adam(lr=0.001), metrics = ['mse'])\n",
    "    model.summary()\n",
    "    return model\n",
    "#end def\n",
    "\n",
    "def gen_net_model():\n",
    "    movie_imp = Input(shape=(1,), name='movie_input')\n",
    "    movie_emb = Embedding(n_movies, movie_emb_sz, name='movie_embedding')(movie_imp)\n",
    "    \n",
    "    user_imp = Input(shape=(1,), name='user_input')\n",
    "    user_emb = Embedding(n_users, user_emb_sz, name='user_embedding')(user_imp)\n",
    "    \n",
    "    tag_imp = Input(shape=(n_tags,), name='tag_input')\n",
    "    tag_dense_emb = Dense(tag_emb_sz)(tag_imp)\n",
    "    \n",
    "    movie_do = Dropout(0.1)(movie_emb)\n",
    "    user_do = Dropout(0.1)(user_emb)\n",
    "    \n",
    "    concat = Flatten()(Concatenate(axis=2, name='concat')([movie_emb, user_emb, tag_emb]))\n",
    "    \n",
    "    dense1 = Dense(floor(2/3*(movie_emb_sz + user_emb_sz)), activation='tanh')(concat)\n",
    "    d1_do = Dropout(0.1)(dense1)\n",
    "    \n",
    "    dense2 = Dense(floor(1/5*(movie_emb_sz + user_emb_sz)), activation='tanh')(d1_do)\n",
    "    d2_do = Dropout(0.1)(dense2)\n",
    "    \n",
    "    dense3 = Dense(1, activation='sigmoid')(d2_do)    \n",
    "    out = Lambda(lambda x: min_rateing + (max_rateing - min_rateing)*x)(dense3)\n",
    "\n",
    "    model = Model(inputs=[movie_imp, user_imp], outputs=[out])\n",
    "    model.compile(loss = 'mean_squared_error', optimizer = Adam(lr=0.001), metrics = ['mse'])\n",
    "    model.summary()\n",
    "    return model\n",
    "#end def\n",
    "\n",
    "es = EarlyStopping(patience=5, restore_best_weights=True)"
   ]
  },
  {
   "cell_type": "code",
   "execution_count": 344,
   "metadata": {
    "scrolled": false
   },
   "outputs": [
    {
     "name": "stdout",
     "output_type": "stream",
     "text": [
      "__________________________________________________________________________________________________\n",
      "Layer (type)                    Output Shape         Param #     Connected to                     \n",
      "==================================================================================================\n",
      "movie_input (InputLayer)        (None, 1)            0                                            \n",
      "__________________________________________________________________________________________________\n",
      "user_input (InputLayer)         (None, 1)            0                                            \n",
      "__________________________________________________________________________________________________\n",
      "movie_embedding (Embedding)     (None, 1, 50)        487100      movie_input[0][0]                \n",
      "__________________________________________________________________________________________________\n",
      "user_embedding (Embedding)      (None, 1, 50)        30500       user_input[0][0]                 \n",
      "__________________________________________________________________________________________________\n",
      "dropout_71 (Dropout)            (None, 1, 50)        0           movie_embedding[0][0]            \n",
      "__________________________________________________________________________________________________\n",
      "dropout_72 (Dropout)            (None, 1, 50)        0           user_embedding[0][0]             \n",
      "__________________________________________________________________________________________________\n",
      "dot (Dot)                       (None, 1, 1)         0           dropout_71[0][0]                 \n",
      "                                                                 dropout_72[0][0]                 \n",
      "__________________________________________________________________________________________________\n",
      "flatten_8 (Flatten)             (None, 1)            0           dot[0][0]                        \n",
      "__________________________________________________________________________________________________\n",
      "dropout_73 (Dropout)            (None, 1)            0           flatten_8[0][0]                  \n",
      "__________________________________________________________________________________________________\n",
      "activation (Activation)         (None, 1)            0           dropout_73[0][0]                 \n",
      "__________________________________________________________________________________________________\n",
      "lambda_44 (Lambda)              (None, 1)            0           activation[0][0]                 \n",
      "==================================================================================================\n",
      "Total params: 517,600\n",
      "Trainable params: 517,600\n",
      "Non-trainable params: 0\n",
      "__________________________________________________________________________________________________\n",
      "Train on 72601 samples, validate on 8067 samples\n",
      "Epoch 1/100\n",
      "72601/72601 [==============================] - 5s 70us/step - loss: 1.6495 - mean_squared_error: 1.6495 - val_loss: 1.6195 - val_mean_squared_error: 1.6195\n",
      "Epoch 2/100\n",
      "72601/72601 [==============================] - 2s 34us/step - loss: 1.4332 - mean_squared_error: 1.4332 - val_loss: 1.1770 - val_mean_squared_error: 1.1770\n",
      "Epoch 3/100\n",
      "72601/72601 [==============================] - 3s 35us/step - loss: 0.9754 - mean_squared_error: 0.9754 - val_loss: 0.9259 - val_mean_squared_error: 0.9259\n",
      "Epoch 4/100\n",
      "72601/72601 [==============================] - 3s 36us/step - loss: 0.8062 - mean_squared_error: 0.8062 - val_loss: 0.8582 - val_mean_squared_error: 0.8582\n",
      "Epoch 5/100\n",
      "72601/72601 [==============================] - 3s 37us/step - loss: 0.7107 - mean_squared_error: 0.7107 - val_loss: 0.8268 - val_mean_squared_error: 0.8268\n",
      "Epoch 6/100\n",
      "72601/72601 [==============================] - 3s 38us/step - loss: 0.6395 - mean_squared_error: 0.6395 - val_loss: 0.8129 - val_mean_squared_error: 0.8129\n",
      "Epoch 7/100\n",
      "72601/72601 [==============================] - 3s 38us/step - loss: 0.5839 - mean_squared_error: 0.5839 - val_loss: 0.8059 - val_mean_squared_error: 0.8059\n",
      "Epoch 8/100\n",
      "72601/72601 [==============================] - 3s 38us/step - loss: 0.5387 - mean_squared_error: 0.5387 - val_loss: 0.8034 - val_mean_squared_error: 0.8034\n",
      "Epoch 9/100\n",
      "72601/72601 [==============================] - 3s 39us/step - loss: 0.4985 - mean_squared_error: 0.4985 - val_loss: 0.8024 - val_mean_squared_error: 0.8024\n",
      "Epoch 10/100\n",
      "72601/72601 [==============================] - 3s 39us/step - loss: 0.4739 - mean_squared_error: 0.4739 - val_loss: 0.8051 - val_mean_squared_error: 0.8051\n",
      "Epoch 11/100\n",
      "72601/72601 [==============================] - 3s 39us/step - loss: 0.4414 - mean_squared_error: 0.4414 - val_loss: 0.8054 - val_mean_squared_error: 0.8054\n",
      "Epoch 12/100\n",
      "72601/72601 [==============================] - 3s 40us/step - loss: 0.4228 - mean_squared_error: 0.4228 - val_loss: 0.8091 - val_mean_squared_error: 0.8091\n",
      "Epoch 13/100\n",
      "72601/72601 [==============================] - 3s 41us/step - loss: 0.4040 - mean_squared_error: 0.4040 - val_loss: 0.8129 - val_mean_squared_error: 0.8129\n",
      "Epoch 14/100\n",
      "72601/72601 [==============================] - 3s 41us/step - loss: 0.3852 - mean_squared_error: 0.3852 - val_loss: 0.8158 - val_mean_squared_error: 0.8158\n"
     ]
    }
   ],
   "source": [
    "model = gen_dot_model()\n",
    "history = model.fit([train_movie, train_user, ], [train_rating], validation_split=0.1, epochs=100, batch_size=256, callbacks = [es])"
   ]
  },
  {
   "cell_type": "code",
   "execution_count": 345,
   "metadata": {},
   "outputs": [
    {
     "name": "stdout",
     "output_type": "stream",
     "text": [
      "20168/20168 [==============================] - 1s 27us/step\n",
      "RMSE on test set: 0.8885204333922158\n"
     ]
    }
   ],
   "source": [
    "mse = model.evaluate([test_movie, test_user], [test_rating])\n",
    "rmse = sqrt(mse[0])\n",
    "print(f'RMSE on test set: {rmse}')"
   ]
  },
  {
   "cell_type": "code",
   "execution_count": 346,
   "metadata": {},
   "outputs": [
    {
     "name": "stdout",
     "output_type": "stream",
     "text": [
      "__________________________________________________________________________________________________\n",
      "Layer (type)                    Output Shape         Param #     Connected to                     \n",
      "==================================================================================================\n",
      "movie_input (InputLayer)        (None, 1)            0                                            \n",
      "__________________________________________________________________________________________________\n",
      "user_input (InputLayer)         (None, 1)            0                                            \n",
      "__________________________________________________________________________________________________\n",
      "movie_embedding (Embedding)     (None, 1, 50)        487100      movie_input[0][0]                \n",
      "__________________________________________________________________________________________________\n",
      "user_embedding (Embedding)      (None, 1, 50)        30500       user_input[0][0]                 \n",
      "__________________________________________________________________________________________________\n",
      "concat (Concatenate)            (None, 1, 100)       0           movie_embedding[0][0]            \n",
      "                                                                 user_embedding[0][0]             \n",
      "__________________________________________________________________________________________________\n",
      "flatten_9 (Flatten)             (None, 100)          0           concat[0][0]                     \n",
      "__________________________________________________________________________________________________\n",
      "dense_53 (Dense)                (None, 66)           6666        flatten_9[0][0]                  \n",
      "__________________________________________________________________________________________________\n",
      "dropout_76 (Dropout)            (None, 66)           0           dense_53[0][0]                   \n",
      "__________________________________________________________________________________________________\n",
      "dense_54 (Dense)                (None, 20)           1340        dropout_76[0][0]                 \n",
      "__________________________________________________________________________________________________\n",
      "dropout_77 (Dropout)            (None, 20)           0           dense_54[0][0]                   \n",
      "__________________________________________________________________________________________________\n",
      "dense_55 (Dense)                (None, 1)            21          dropout_77[0][0]                 \n",
      "__________________________________________________________________________________________________\n",
      "lambda_45 (Lambda)              (None, 1)            0           dense_55[0][0]                   \n",
      "==================================================================================================\n",
      "Total params: 525,627\n",
      "Trainable params: 525,627\n",
      "Non-trainable params: 0\n",
      "__________________________________________________________________________________________________\n",
      "Train on 72601 samples, validate on 8067 samples\n",
      "Epoch 1/100\n",
      "72601/72601 [==============================] - 6s 85us/step - loss: 0.8638 - mean_squared_error: 0.8638 - val_loss: 0.7956 - val_mean_squared_error: 0.7956\n",
      "Epoch 2/100\n",
      "72601/72601 [==============================] - 3s 45us/step - loss: 0.7185 - mean_squared_error: 0.7185 - val_loss: 0.7750 - val_mean_squared_error: 0.7750\n",
      "Epoch 3/100\n",
      "72601/72601 [==============================] - 3s 46us/step - loss: 0.6852 - mean_squared_error: 0.6852 - val_loss: 0.7728 - val_mean_squared_error: 0.7728\n",
      "Epoch 4/100\n",
      "72601/72601 [==============================] - 3s 48us/step - loss: 0.6699 - mean_squared_error: 0.6699 - val_loss: 0.7768 - val_mean_squared_error: 0.7768\n",
      "Epoch 5/100\n",
      "72601/72601 [==============================] - 4s 51us/step - loss: 0.6613 - mean_squared_error: 0.6613 - val_loss: 0.7798 - val_mean_squared_error: 0.7798\n",
      "Epoch 6/100\n",
      "72601/72601 [==============================] - 4s 51us/step - loss: 0.6560 - mean_squared_error: 0.6560 - val_loss: 0.7811 - val_mean_squared_error: 0.7811\n",
      "Epoch 7/100\n",
      "72601/72601 [==============================] - 4s 51us/step - loss: 0.6515 - mean_squared_error: 0.6515 - val_loss: 0.7784 - val_mean_squared_error: 0.7784\n",
      "Epoch 8/100\n",
      "72601/72601 [==============================] - 4s 50us/step - loss: 0.6466 - mean_squared_error: 0.6466 - val_loss: 0.7827 - val_mean_squared_error: 0.7827\n"
     ]
    }
   ],
   "source": [
    "model = gen_net_model()\n",
    "history = model.fit([train_movie, train_user], [train_rating], validation_split=0.1, epochs=100, batch_size=256, callbacks = [es])"
   ]
  },
  {
   "cell_type": "code",
   "execution_count": 347,
   "metadata": {},
   "outputs": [
    {
     "name": "stdout",
     "output_type": "stream",
     "text": [
      "20168/20168 [==============================] - 1s 33us/step\n",
      "RMSE on test set: 0.8664244600557804\n"
     ]
    }
   ],
   "source": [
    "mse = model.evaluate([test_movie, test_user], [test_rating])\n",
    "rmse = sqrt(mse[0])\n",
    "print(f'RMSE on test set: {rmse}')"
   ]
  },
  {
   "cell_type": "code",
   "execution_count": null,
   "metadata": {},
   "outputs": [],
   "source": []
  }
 ],
 "metadata": {
  "kernelspec": {
   "display_name": "Python 3",
   "language": "python",
   "name": "python3"
  },
  "language_info": {
   "codemirror_mode": {
    "name": "ipython",
    "version": 3
   },
   "file_extension": ".py",
   "mimetype": "text/x-python",
   "name": "python",
   "nbconvert_exporter": "python",
   "pygments_lexer": "ipython3",
   "version": "3.7.1"
  }
 },
 "nbformat": 4,
 "nbformat_minor": 2
}
